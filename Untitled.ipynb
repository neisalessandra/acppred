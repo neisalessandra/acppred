{
 "cells": [
  {
   "cell_type": "markdown",
   "id": "0ac2863e",
   "metadata": {},
   "source": [
    "# Exploratory analysis for ACPPred"
   ]
  },
  {
   "cell_type": "code",
   "execution_count": 1,
   "id": "1273d262",
   "metadata": {},
   "outputs": [
    {
     "name": "stdout",
     "output_type": "stream",
     "text": [
      "hello, world\n"
     ]
    }
   ],
   "source": [
    "print('hello, world')"
   ]
  },
  {
   "cell_type": "code",
   "execution_count": 2,
   "id": "9040ec2d",
   "metadata": {},
   "outputs": [
    {
     "name": "stdout",
     "output_type": "stream",
     "text": [
      "acppred  environment.yml  Makefile   README.md\t       tests\r\n",
      "data\t LICENSE\t  notebooks  requirements.txt  Untitled.ipynb\r\n"
     ]
    }
   ],
   "source": [
    "!ls      # comando do linux também funcionam"
   ]
  },
  {
   "cell_type": "code",
   "execution_count": 6,
   "id": "cdfbe45d",
   "metadata": {},
   "outputs": [
    {
     "name": "stdout",
     "output_type": "stream",
     "text": [
      "  % Total    % Received % Xferd  Average Speed   Time    Time     Time  Current\n",
      "                                 Dload  Upload   Total   Spent    Left  Speed\n",
      "  0     0    0     0    0     0      0      0 --:--:--  0:00:01 --:--:--     0Warning: Failed to create the file ../data/raw/positive.txt: Arquivo ou \n",
      "Warning: diretório inexistente\n",
      " 95 17126   95 16384    0     0   7740      0  0:00:02  0:00:02 --:--:--  7742\n",
      "curl: (23) Failure writing output to destination\n"
     ]
    }
   ],
   "source": [
    "!curl -o ../data/raw/positive.txt https://webs.iiitd.edu.in/raghava/anticp2/pos_train_alternate"
   ]
  },
  {
   "cell_type": "code",
   "execution_count": 5,
   "id": "a9587e34",
   "metadata": {},
   "outputs": [
    {
     "name": "stdout",
     "output_type": "stream",
     "text": [
      "  % Total    % Received % Xferd  Average Speed   Time    Time     Time  Current\n",
      "                                 Dload  Upload   Total   Spent    Left  Speed\n",
      "  0 22467    0     0    0     0      0      0 --:--:--  0:00:01 --:--:--     0Warning: Failed to create the file ../data/raw/negative.txt: Arquivo ou \n",
      "Warning: diretório inexistente\n",
      " 73 22467   73 16384    0     0   7994      0  0:00:02  0:00:02 --:--:--  7996\n",
      "curl: (23) Failure writing output to destination\n"
     ]
    }
   ],
   "source": [
    "!curl -o ../data/raw/negative.txt https://webs.iiitd.edu.in/raghava/anticp2/neg_train_alternate"
   ]
  },
  {
   "cell_type": "code",
   "execution_count": 20,
   "id": "4f621341",
   "metadata": {},
   "outputs": [],
   "source": [
    "!cd notebooks/"
   ]
  },
  {
   "cell_type": "code",
   "execution_count": 22,
   "id": "ccfcd013",
   "metadata": {},
   "outputs": [
    {
     "name": "stdout",
     "output_type": "stream",
     "text": [
      "  % Total    % Received % Xferd  Average Speed   Time    Time     Time  Current\n",
      "                                 Dload  Upload   Total   Spent    Left  Speed\n",
      "  0     0    0     0    0     0      0      0 --:--:-- --:--:-- --:--:--     0Warning: Failed to create the file ../data/raw/positive.txt: Arquivo ou \n",
      "Warning: diretório inexistente\n",
      " 95 17126   95 16384    0     0   8021      0  0:00:02  0:00:02 --:--:--  8023\n",
      "curl: (23) Failure writing output to destination\n"
     ]
    }
   ],
   "source": [
    "!curl -o ../data/raw/positive.txt https://webs.iiitd.edu.in/raghava/anticp2/pos_train_alternate"
   ]
  }
 ],
 "metadata": {
  "kernelspec": {
   "display_name": "Python 3 (ipykernel)",
   "language": "python",
   "name": "python3"
  },
  "language_info": {
   "codemirror_mode": {
    "name": "ipython",
    "version": 3
   },
   "file_extension": ".py",
   "mimetype": "text/x-python",
   "name": "python",
   "nbconvert_exporter": "python",
   "pygments_lexer": "ipython3",
   "version": "3.8.13"
  }
 },
 "nbformat": 4,
 "nbformat_minor": 5
}
